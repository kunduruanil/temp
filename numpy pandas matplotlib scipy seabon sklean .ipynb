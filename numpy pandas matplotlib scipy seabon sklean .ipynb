{
 "cells": [
  {
   "cell_type": "code",
   "execution_count": 1,
   "id": "596a5f48",
   "metadata": {},
   "outputs": [],
   "source": [
    "import numpy as np"
   ]
  },
  {
   "cell_type": "code",
   "execution_count": 3,
   "id": "2af15fe6",
   "metadata": {},
   "outputs": [
    {
     "data": {
      "text/plain": [
       "(1, 3, 3)"
      ]
     },
     "execution_count": 3,
     "metadata": {},
     "output_type": "execute_result"
    }
   ],
   "source": [
    "np.array([[[1,2,3],[3,4,5],[5,6,7]]]).shape"
   ]
  },
  {
   "cell_type": "markdown",
   "id": "48b8c432",
   "metadata": {},
   "source": [
    "# emp_id , emp_name , emp_salary ,emp_gendar , emp_add , emp_phonenum (1000)\n",
    "\n",
    "# (1000,6)"
   ]
  },
  {
   "cell_type": "code",
   "execution_count": null,
   "id": "e21fe357",
   "metadata": {},
   "outputs": [],
   "source": [
    "# (1024,1024,3,100)"
   ]
  },
  {
   "cell_type": "code",
   "execution_count": 9,
   "id": "cf11f962",
   "metadata": {},
   "outputs": [
    {
     "data": {
      "text/plain": [
       "51"
      ]
     },
     "execution_count": 9,
     "metadata": {},
     "output_type": "execute_result"
    }
   ],
   "source": [
    "ord(\"3\")"
   ]
  },
  {
   "cell_type": "code",
   "execution_count": 12,
   "id": "1fe29a0b",
   "metadata": {
    "scrolled": true
   },
   "outputs": [
    {
     "name": "stdout",
     "output_type": "stream",
     "text": [
      "absolute(x, /, out=None, *, where=True, casting='same_kind', order='K', dtype=None, subok=True[, signature, extobj])\n",
      "\n",
      "Calculate the absolute value element-wise.\n",
      "\n",
      "``np.abs`` is a shorthand for this function.\n",
      "\n",
      "Parameters\n",
      "----------\n",
      "x : array_like\n",
      "    Input array.\n",
      "out : ndarray, None, or tuple of ndarray and None, optional\n",
      "    A location into which the result is stored. If provided, it must have\n",
      "    a shape that the inputs broadcast to. If not provided or None,\n",
      "    a freshly-allocated array is returned. A tuple (possible only as a\n",
      "    keyword argument) must have length equal to the number of outputs.\n",
      "where : array_like, optional\n",
      "    This condition is broadcast over the input. At locations where the\n",
      "    condition is True, the `out` array will be set to the ufunc result.\n",
      "    Elsewhere, the `out` array will retain its original value.\n",
      "    Note that if an uninitialized `out` array is created via the default\n",
      "    ``out=None``, locations within it where the condition is False will\n",
      "    remain uninitialized.\n",
      "**kwargs\n",
      "    For other keyword-only arguments, see the\n",
      "    :ref:`ufunc docs <ufuncs.kwargs>`.\n",
      "\n",
      "Returns\n",
      "-------\n",
      "absolute : ndarray\n",
      "    An ndarray containing the absolute value of\n",
      "    each element in `x`.  For complex input, ``a + ib``, the\n",
      "    absolute value is :math:`\\sqrt{ a^2 + b^2 }`.\n",
      "    This is a scalar if `x` is a scalar.\n",
      "\n",
      "Examples\n",
      "--------\n",
      ">>> x = np.array([-1.2, 1.2])\n",
      ">>> np.absolute(x)\n",
      "array([ 1.2,  1.2])\n",
      ">>> np.absolute(1.2 + 1j)\n",
      "1.5620499351813308\n",
      "\n",
      "Plot the function over ``[-10, 10]``:\n",
      "\n",
      ">>> import matplotlib.pyplot as plt\n",
      "\n",
      ">>> x = np.linspace(start=-10, stop=10, num=101)\n",
      ">>> plt.plot(x, np.absolute(x))\n",
      ">>> plt.show()\n",
      "\n",
      "Plot the function over the complex plane:\n",
      "\n",
      ">>> xx = x + 1j * x[:, np.newaxis]\n",
      ">>> plt.imshow(np.abs(xx), extent=[-10, 10, -10, 10], cmap='gray')\n",
      ">>> plt.show()\n"
     ]
    }
   ],
   "source": [
    "np.info(np.abs)"
   ]
  },
  {
   "cell_type": "code",
   "execution_count": 14,
   "id": "7cb8a607",
   "metadata": {},
   "outputs": [
    {
     "data": {
      "text/plain": [
       "array([[0., 0., 0., 0.],\n",
       "       [0., 0., 0., 0.],\n",
       "       [0., 0., 0., 0.]])"
      ]
     },
     "execution_count": 14,
     "metadata": {},
     "output_type": "execute_result"
    }
   ],
   "source": [
    "np.zeros((3,4))"
   ]
  },
  {
   "cell_type": "code",
   "execution_count": 15,
   "id": "b04f3413",
   "metadata": {},
   "outputs": [
    {
     "data": {
      "text/plain": [
       "array([[1., 1., 1., 1., 1.],\n",
       "       [1., 1., 1., 1., 1.],\n",
       "       [1., 1., 1., 1., 1.]])"
      ]
     },
     "execution_count": 15,
     "metadata": {},
     "output_type": "execute_result"
    }
   ],
   "source": [
    "np.ones((3,5))"
   ]
  },
  {
   "cell_type": "code",
   "execution_count": 17,
   "id": "218e3c77",
   "metadata": {},
   "outputs": [
    {
     "data": {
      "text/plain": [
       "array([[5., 5., 5., 5.],\n",
       "       [5., 5., 5., 5.]])"
      ]
     },
     "execution_count": 17,
     "metadata": {},
     "output_type": "execute_result"
    }
   ],
   "source": [
    "np.full((2,4),5.0)"
   ]
  },
  {
   "cell_type": "code",
   "execution_count": 18,
   "id": "1154e13d",
   "metadata": {},
   "outputs": [
    {
     "data": {
      "text/plain": [
       "array([3, 3, 0, 3, 5, 4, 4, 2, 2, 4])"
      ]
     },
     "execution_count": 18,
     "metadata": {},
     "output_type": "execute_result"
    }
   ],
   "source": [
    "np.random.randint(0,6,(10,))"
   ]
  },
  {
   "cell_type": "code",
   "execution_count": 21,
   "id": "be8c3f33",
   "metadata": {},
   "outputs": [
    {
     "data": {
      "text/plain": [
       "array([49458.86426308, 95025.89218561, 70208.34492229, 42524.70228858,\n",
       "        8984.09835877, 71989.43848182, 43408.43577943, 37478.11927525,\n",
       "        7909.99119631, 35404.78418032])"
      ]
     },
     "execution_count": 21,
     "metadata": {},
     "output_type": "execute_result"
    }
   ],
   "source": [
    "np.random.normal(50000,20000,(10,))"
   ]
  },
  {
   "cell_type": "markdown",
   "id": "148c0028",
   "metadata": {},
   "source": [
    "# pandas"
   ]
  },
  {
   "cell_type": "markdown",
   "id": "d3e5c930",
   "metadata": {},
   "source": [
    "# 2 data statures for pandas\n",
    "# 1. Series  (one dimentional data)\n",
    "# 2. datafame (2 dimentional data)"
   ]
  },
  {
   "cell_type": "code",
   "execution_count": 22,
   "id": "1be44bf7",
   "metadata": {},
   "outputs": [],
   "source": [
    "import pandas as pd"
   ]
  },
  {
   "cell_type": "code",
   "execution_count": 30,
   "id": "781802b4",
   "metadata": {},
   "outputs": [],
   "source": [
    "salary_by_hour = pd.Series([200,400,100,250,50,25,78,56,25,36])"
   ]
  },
  {
   "cell_type": "code",
   "execution_count": 31,
   "id": "5f502073",
   "metadata": {},
   "outputs": [
    {
     "data": {
      "text/plain": [
       "0    200\n",
       "1    400\n",
       "2    100\n",
       "3    250\n",
       "4     50\n",
       "5     25\n",
       "6     78\n",
       "7     56\n",
       "8     25\n",
       "9     36\n",
       "dtype: int64"
      ]
     },
     "execution_count": 31,
     "metadata": {},
     "output_type": "execute_result"
    }
   ],
   "source": [
    "salary_by_hour"
   ]
  },
  {
   "cell_type": "code",
   "execution_count": 33,
   "id": "37fb6a4f",
   "metadata": {},
   "outputs": [
    {
     "data": {
      "text/plain": [
       "(122.0,\n",
       " 67.0,\n",
       " 123.794632804137,\n",
       " 0    25\n",
       " dtype: int64,\n",
       " 15325.111111111111)"
      ]
     },
     "execution_count": 33,
     "metadata": {},
     "output_type": "execute_result"
    }
   ],
   "source": [
    "salary_by_hour.mean(),salary_by_hour.median(),salary_by_hour.std(),salary_by_hour.mode(),salary_by_hour.var()"
   ]
  },
  {
   "cell_type": "code",
   "execution_count": 34,
   "id": "72fb476b",
   "metadata": {},
   "outputs": [
    {
     "data": {
      "text/plain": [
       "5     25\n",
       "8     25\n",
       "9     36\n",
       "4     50\n",
       "7     56\n",
       "6     78\n",
       "2    100\n",
       "0    200\n",
       "3    250\n",
       "1    400\n",
       "dtype: int64"
      ]
     },
     "execution_count": 34,
     "metadata": {},
     "output_type": "execute_result"
    }
   ],
   "source": [
    "salary_by_hour.sort_values()"
   ]
  },
  {
   "cell_type": "code",
   "execution_count": 63,
   "id": "c04acda0",
   "metadata": {},
   "outputs": [],
   "source": [
    "emp = pd.DataFrame({\"emp_id\":[34,56,23,57],\"emp_name\":[\"anil\",\"raj\",\"raja\",\"rani\"],\n",
    "                   \"emp_sal_by_hour\":[200,14,34,56],\"gender\":[\"male\",\",male\",\"male\",\"female\"]})"
   ]
  },
  {
   "cell_type": "code",
   "execution_count": 64,
   "id": "f43080c5",
   "metadata": {},
   "outputs": [
    {
     "data": {
      "text/html": [
       "<div>\n",
       "<style scoped>\n",
       "    .dataframe tbody tr th:only-of-type {\n",
       "        vertical-align: middle;\n",
       "    }\n",
       "\n",
       "    .dataframe tbody tr th {\n",
       "        vertical-align: top;\n",
       "    }\n",
       "\n",
       "    .dataframe thead th {\n",
       "        text-align: right;\n",
       "    }\n",
       "</style>\n",
       "<table border=\"1\" class=\"dataframe\">\n",
       "  <thead>\n",
       "    <tr style=\"text-align: right;\">\n",
       "      <th></th>\n",
       "      <th>emp_id</th>\n",
       "      <th>emp_name</th>\n",
       "      <th>emp_sal_by_hour</th>\n",
       "      <th>gender</th>\n",
       "    </tr>\n",
       "  </thead>\n",
       "  <tbody>\n",
       "    <tr>\n",
       "      <th>0</th>\n",
       "      <td>34</td>\n",
       "      <td>anil</td>\n",
       "      <td>200</td>\n",
       "      <td>male</td>\n",
       "    </tr>\n",
       "    <tr>\n",
       "      <th>1</th>\n",
       "      <td>56</td>\n",
       "      <td>raj</td>\n",
       "      <td>14</td>\n",
       "      <td>,male</td>\n",
       "    </tr>\n",
       "    <tr>\n",
       "      <th>2</th>\n",
       "      <td>23</td>\n",
       "      <td>raja</td>\n",
       "      <td>34</td>\n",
       "      <td>male</td>\n",
       "    </tr>\n",
       "    <tr>\n",
       "      <th>3</th>\n",
       "      <td>57</td>\n",
       "      <td>rani</td>\n",
       "      <td>56</td>\n",
       "      <td>female</td>\n",
       "    </tr>\n",
       "  </tbody>\n",
       "</table>\n",
       "</div>"
      ],
      "text/plain": [
       "   emp_id emp_name  emp_sal_by_hour  gender\n",
       "0      34     anil              200    male\n",
       "1      56      raj               14   ,male\n",
       "2      23     raja               34    male\n",
       "3      57     rani               56  female"
      ]
     },
     "execution_count": 64,
     "metadata": {},
     "output_type": "execute_result"
    }
   ],
   "source": [
    "emp"
   ]
  },
  {
   "cell_type": "code",
   "execution_count": 48,
   "id": "1c405d6f",
   "metadata": {},
   "outputs": [
    {
     "data": {
      "text/plain": [
       "pandas.core.series.Series"
      ]
     },
     "execution_count": 48,
     "metadata": {},
     "output_type": "execute_result"
    }
   ],
   "source": [
    "type(emp[\"emp_name\"])"
   ]
  },
  {
   "cell_type": "code",
   "execution_count": 49,
   "id": "72908f1e",
   "metadata": {},
   "outputs": [
    {
     "data": {
      "text/plain": [
       "0    anil\n",
       "1     raj\n",
       "2    raja\n",
       "3    rani\n",
       "Name: emp_name, dtype: object"
      ]
     },
     "execution_count": 49,
     "metadata": {},
     "output_type": "execute_result"
    }
   ],
   "source": [
    "emp[\"emp_name\"]"
   ]
  },
  {
   "cell_type": "markdown",
   "id": "039780ba",
   "metadata": {},
   "source": [
    "# matplotlib"
   ]
  },
  {
   "cell_type": "code",
   "execution_count": 50,
   "id": "36ea91af",
   "metadata": {},
   "outputs": [],
   "source": [
    "import matplotlib.pyplot as plt"
   ]
  },
  {
   "cell_type": "code",
   "execution_count": 58,
   "id": "fbc53079",
   "metadata": {
    "scrolled": false
   },
   "outputs": [
    {
     "data": {
      "text/plain": [
       "Int64Index([25, 56, 78, 250, 200, 100, 36, 50, 400], dtype='int64')"
      ]
     },
     "execution_count": 58,
     "metadata": {},
     "output_type": "execute_result"
    }
   ],
   "source": [
    "salary_by_hour.value_counts().index"
   ]
  },
  {
   "cell_type": "code",
   "execution_count": 59,
   "id": "2f692852",
   "metadata": {},
   "outputs": [
    {
     "data": {
      "text/plain": [
       "array([2, 1, 1, 1, 1, 1, 1, 1, 1], dtype=int64)"
      ]
     },
     "execution_count": 59,
     "metadata": {},
     "output_type": "execute_result"
    }
   ],
   "source": [
    "salary_by_hour.value_counts().values"
   ]
  },
  {
   "cell_type": "code",
   "execution_count": 61,
   "id": "7ff04c27",
   "metadata": {},
   "outputs": [
    {
     "data": {
      "text/plain": [
       "<AxesSubplot:>"
      ]
     },
     "execution_count": 61,
     "metadata": {},
     "output_type": "execute_result"
    },
    {
     "data": {
      "image/png": "[encoded data removed]",
      "text/plain": [
       "<Figure size 432x288 with 1 Axes>"
      ]
     },
     "metadata": {
      "needs_background": "light"
     },
     "output_type": "display_data"
    }
   ],
   "source": [
    "salary_by_hour.plot(kind=\"bar\")"
   ]
  },
  {
   "cell_type": "markdown",
   "id": "8018db0d",
   "metadata": {},
   "source": [
    "# stats basics of data types\n",
    "# 1. continoues data (hist,)\n",
    "# 2. categarical data (discrate) (bar ,pie)\n",
    "# 3. unique id"
   ]
  },
  {
   "cell_type": "code",
   "execution_count": 65,
   "id": "16c1bc8f",
   "metadata": {},
   "outputs": [
    {
     "data": {
      "text/plain": [
       "<AxesSubplot:ylabel='None'>"
      ]
     },
     "execution_count": 65,
     "metadata": {},
     "output_type": "execute_result"
    },
    {
     "data": {
      "image/png": "[encoded data removed]",
      "text/plain": [
       "<Figure size 432x288 with 1 Axes>"
      ]
     },
     "metadata": {},
     "output_type": "display_data"
    }
   ],
   "source": [
    "salary_by_hour.plot(kind=\"pie\")"
   ]
  },
  {
   "cell_type": "markdown",
   "id": "121296d8",
   "metadata": {},
   "source": [
    "# numpy pandas matplotlib scipy seabon sklean "
   ]
  },
  {
   "cell_type": "code",
   "execution_count": null,
   "id": "c5917a50",
   "metadata": {},
   "outputs": [],
   "source": []
  }
 ],
 "metadata": {
  "kernelspec": {
   "display_name": "Python 3",
   "language": "python",
   "name": "python3"
  },
  "language_info": {
   "codemirror_mode": {
    "name": "ipython",
    "version": 3
   },
   "file_extension": ".py",
   "mimetype": "text/x-python",
   "name": "python",
   "nbconvert_exporter": "python",
   "pygments_lexer": "ipython3",
   "version": "3.8.8"
  }
 },
 "nbformat": 4,
 "nbformat_minor": 5
}
