{
 "cells": [
  {
   "cell_type": "code",
   "execution_count": 1,
   "metadata": {},
   "outputs": [
    {
     "name": "stderr",
     "output_type": "stream",
     "text": [
      "Using TensorFlow backend.\n"
     ]
    }
   ],
   "source": [
    "import numpy as np\n",
    "import keras\n",
    "import sklearn"
   ]
  },
  {
   "cell_type": "code",
   "execution_count": 2,
   "metadata": {},
   "outputs": [],
   "source": [
    "from sklearn.datasets import load_diabetes"
   ]
  },
  {
   "cell_type": "code",
   "execution_count": 3,
   "metadata": {},
   "outputs": [],
   "source": [
    "dia=load_diabetes()\n",
    "x=dia.data\n",
    "y=dia.target"
   ]
  },
  {
   "cell_type": "code",
   "execution_count": 8,
   "metadata": {},
   "outputs": [
    {
     "data": {
      "text/plain": [
       "(442, 10)"
      ]
     },
     "execution_count": 8,
     "metadata": {},
     "output_type": "execute_result"
    }
   ],
   "source": [
    "x.shape"
   ]
  },
  {
   "cell_type": "code",
   "execution_count": 5,
   "metadata": {},
   "outputs": [
    {
     "name": "stdout",
     "output_type": "stream",
     "text": [
      ".. _diabetes_dataset:\n",
      "\n",
      "Diabetes dataset\n",
      "----------------\n",
      "\n",
      "Ten baseline variables, age, sex, body mass index, average blood\n",
      "pressure, and six blood serum measurements were obtained for each of n =\n",
      "442 diabetes patients, as well as the response of interest, a\n",
      "quantitative measure of disease progression one year after baseline.\n",
      "\n",
      "**Data Set Characteristics:**\n",
      "\n",
      "  :Number of Instances: 442\n",
      "\n",
      "  :Number of Attributes: First 10 columns are numeric predictive values\n",
      "\n",
      "  :Target: Column 11 is a quantitative measure of disease progression one year after baseline\n",
      "\n",
      "  :Attribute Information:\n",
      "      - Age\n",
      "      - Sex\n",
      "      - Body mass index\n",
      "      - Average blood pressure\n",
      "      - S1\n",
      "      - S2\n",
      "      - S3\n",
      "      - S4\n",
      "      - S5\n",
      "      - S6\n",
      "\n",
      "Note: Each of these 10 feature variables have been mean centered and scaled by the standard deviation times `n_samples` (i.e. the sum of squares of each column totals 1).\n",
      "\n",
      "Source URL:\n",
      "https://www4.stat.ncsu.edu/~boos/var.select/diabetes.html\n",
      "\n",
      "For more information see:\n",
      "Bradley Efron, Trevor Hastie, Iain Johnstone and Robert Tibshirani (2004) \"Least Angle Regression,\" Annals of Statistics (with discussion), 407-499.\n",
      "(https://web.stanford.edu/~hastie/Papers/LARS/LeastAngle_2002.pdf)\n"
     ]
    }
   ],
   "source": [
    "print(dia.DESCR)"
   ]
  },
  {
   "cell_type": "markdown",
   "metadata": {},
   "source": [
    "# Implementation of NN"
   ]
  },
  {
   "cell_type": "code",
   "execution_count": 6,
   "metadata": {},
   "outputs": [],
   "source": [
    "model=keras.models.Sequential()"
   ]
  },
  {
   "cell_type": "markdown",
   "metadata": {},
   "source": [
    "# input layer"
   ]
  },
  {
   "cell_type": "code",
   "execution_count": 7,
   "metadata": {},
   "outputs": [
    {
     "data": {
      "text/plain": [
       "keras.engine.sequential.Sequential"
      ]
     },
     "execution_count": 7,
     "metadata": {},
     "output_type": "execute_result"
    }
   ],
   "source": [
    "type(model)"
   ]
  },
  {
   "cell_type": "code",
   "execution_count": 9,
   "metadata": {},
   "outputs": [],
   "source": [
    "model.add(keras.layers.Dense(1,input_shape=(10,)))"
   ]
  },
  {
   "cell_type": "code",
   "execution_count": 10,
   "metadata": {},
   "outputs": [],
   "source": [
    "model.compile(loss='mean_squared_error',optimizer='adam')"
   ]
  },
  {
   "cell_type": "code",
   "execution_count": 11,
   "metadata": {},
   "outputs": [
    {
     "name": "stdout",
     "output_type": "stream",
     "text": [
      "WARNING:tensorflow:From C:\\ProgramData\\Anaconda3\\lib\\site-packages\\keras\\backend\\tensorflow_backend.py:422: The name tf.global_variables is deprecated. Please use tf.compat.v1.global_variables instead.\n",
      "\n",
      "Epoch 1/100\n",
      "442/442 [==============================] - 1s 2ms/step - loss: 29069.9059\n",
      "Epoch 2/100\n",
      "442/442 [==============================] - 0s 68us/step - loss: 29065.4357\n",
      "Epoch 3/100\n",
      "442/442 [==============================] - 0s 63us/step - loss: 29060.8423\n",
      "Epoch 4/100\n",
      "442/442 [==============================] - 0s 95us/step - loss: 29056.4281\n",
      "Epoch 5/100\n",
      "442/442 [==============================] - 0s 68us/step - loss: 29051.8754\n",
      "Epoch 6/100\n",
      "442/442 [==============================] - 0s 106us/step - loss: 29047.3703\n",
      "Epoch 7/100\n",
      "442/442 [==============================] - 0s 68us/step - loss: 29042.8532\n",
      "Epoch 8/100\n",
      "442/442 [==============================] - 0s 74us/step - loss: 29038.3634\n",
      "Epoch 9/100\n",
      "442/442 [==============================] - 0s 93us/step - loss: 29033.8614\n",
      "Epoch 10/100\n",
      "442/442 [==============================] - 0s 72us/step - loss: 29029.3723\n",
      "Epoch 11/100\n",
      "442/442 [==============================] - 0s 56us/step - loss: 29024.8159\n",
      "Epoch 12/100\n",
      "442/442 [==============================] - 0s 113us/step - loss: 29020.4012\n",
      "Epoch 13/100\n",
      "442/442 [==============================] - 0s 63us/step - loss: 29015.8204\n",
      "Epoch 14/100\n",
      "442/442 [==============================] - 0s 70us/step - loss: 29011.3477\n",
      "Epoch 15/100\n",
      "442/442 [==============================] - 0s 104us/step - loss: 29006.9174\n",
      "Epoch 16/100\n",
      "442/442 [==============================] - 0s 88us/step - loss: 29002.4224\n",
      "Epoch 17/100\n",
      "442/442 [==============================] - 0s 102us/step - loss: 28997.9022\n",
      "Epoch 18/100\n",
      "442/442 [==============================] - 0s 81us/step - loss: 28993.4198\n",
      "Epoch 19/100\n",
      "442/442 [==============================] - 0s 83us/step - loss: 28988.8943\n",
      "Epoch 20/100\n",
      "442/442 [==============================] - 0s 95us/step - loss: 28984.5147\n",
      "Epoch 21/100\n",
      "442/442 [==============================] - 0s 74us/step - loss: 28979.9742\n",
      "Epoch 22/100\n",
      "442/442 [==============================] - 0s 72us/step - loss: 28975.4765\n",
      "Epoch 23/100\n",
      "442/442 [==============================] - 0s 88us/step - loss: 28971.0478\n",
      "Epoch 24/100\n",
      "442/442 [==============================] - 0s 102us/step - loss: 28966.5926\n",
      "Epoch 25/100\n",
      "442/442 [==============================] - 0s 59us/step - loss: 28962.0745\n",
      "Epoch 26/100\n",
      "442/442 [==============================] - 0s 120us/step - loss: 28957.5425\n",
      "Epoch 27/100\n",
      "442/442 [==============================] - 0s 65us/step - loss: 28953.1342\n",
      "Epoch 28/100\n",
      "442/442 [==============================] - 0s 77us/step - loss: 28948.6372\n",
      "Epoch 29/100\n",
      "442/442 [==============================] - 0s 96us/step - loss: 28944.2032\n",
      "Epoch 30/100\n",
      "442/442 [==============================] - 0s 99us/step - loss: 28939.7091\n",
      "Epoch 31/100\n",
      "442/442 [==============================] - 0s 72us/step - loss: 28935.1947\n",
      "Epoch 32/100\n",
      "442/442 [==============================] - 0s 116us/step - loss: 28930.7578\n",
      "Epoch 33/100\n",
      "442/442 [==============================] - 0s 81us/step - loss: 28926.2770\n",
      "Epoch 34/100\n",
      "442/442 [==============================] - 0s 96us/step - loss: 28921.8288\n",
      "Epoch 35/100\n",
      "442/442 [==============================] - 0s 97us/step - loss: 28917.3183\n",
      "Epoch 36/100\n",
      "442/442 [==============================] - ETA: 0s - loss: 27349.441 - 0s 108us/step - loss: 28912.8755\n",
      "Epoch 37/100\n",
      "442/442 [==============================] - 0s 77us/step - loss: 28908.4234\n",
      "Epoch 38/100\n",
      "442/442 [==============================] - 0s 95us/step - loss: 28903.9541\n",
      "Epoch 39/100\n",
      "442/442 [==============================] - 0s 122us/step - loss: 28899.4537\n",
      "Epoch 40/100\n",
      "442/442 [==============================] - 0s 95us/step - loss: 28895.0373\n",
      "Epoch 41/100\n",
      "442/442 [==============================] - 0s 97us/step - loss: 28890.4732\n",
      "Epoch 42/100\n",
      "442/442 [==============================] - 0s 65us/step - loss: 28886.0995\n",
      "Epoch 43/100\n",
      "442/442 [==============================] - 0s 81us/step - loss: 28881.6030\n",
      "Epoch 44/100\n",
      "442/442 [==============================] - 0s 126us/step - loss: 28877.1562\n",
      "Epoch 45/100\n",
      "442/442 [==============================] - 0s 113us/step - loss: 28872.6828\n",
      "Epoch 46/100\n",
      "442/442 [==============================] - 0s 104us/step - loss: 28868.2098\n",
      "Epoch 47/100\n",
      "442/442 [==============================] - 0s 113us/step - loss: 28863.7448\n",
      "Epoch 48/100\n",
      "442/442 [==============================] - 0s 80us/step - loss: 28859.2487\n",
      "Epoch 49/100\n",
      "442/442 [==============================] - 0s 79us/step - loss: 28854.8122\n",
      "Epoch 50/100\n",
      "442/442 [==============================] - 0s 112us/step - loss: 28850.3636\n",
      "Epoch 51/100\n",
      "442/442 [==============================] - 0s 95us/step - loss: 28845.8696\n",
      "Epoch 52/100\n",
      "442/442 [==============================] - 0s 77us/step - loss: 28841.3969\n",
      "Epoch 53/100\n",
      "442/442 [==============================] - 0s 98us/step - loss: 28836.9467\n",
      "Epoch 54/100\n",
      "442/442 [==============================] - 0s 93us/step - loss: 28832.4937\n",
      "Epoch 55/100\n",
      "442/442 [==============================] - 0s 111us/step - loss: 28827.9927\n",
      "Epoch 56/100\n",
      "442/442 [==============================] - 0s 142us/step - loss: 28823.5522\n",
      "Epoch 57/100\n",
      "442/442 [==============================] - 0s 102us/step - loss: 28819.0913\n",
      "Epoch 58/100\n",
      "442/442 [==============================] - 0s 74us/step - loss: 28814.5932\n",
      "Epoch 59/100\n",
      "442/442 [==============================] - 0s 111us/step - loss: 28810.1426\n",
      "Epoch 60/100\n",
      "442/442 [==============================] - 0s 108us/step - loss: 28805.7258\n",
      "Epoch 61/100\n",
      "442/442 [==============================] - 0s 129us/step - loss: 28801.2551\n",
      "Epoch 62/100\n",
      "442/442 [==============================] - 0s 79us/step - loss: 28796.7998\n",
      "Epoch 63/100\n",
      "442/442 [==============================] - 0s 86us/step - loss: 28792.3029\n",
      "Epoch 64/100\n",
      "442/442 [==============================] - 0s 165us/step - loss: 28787.8379\n",
      "Epoch 65/100\n",
      "442/442 [==============================] - 0s 117us/step - loss: 28783.4121\n",
      "Epoch 66/100\n",
      "442/442 [==============================] - 0s 70us/step - loss: 28778.9618\n",
      "Epoch 67/100\n",
      "442/442 [==============================] - 0s 149us/step - loss: 28774.4916\n",
      "Epoch 68/100\n",
      "442/442 [==============================] - 0s 79us/step - loss: 28770.0681\n",
      "Epoch 69/100\n",
      "442/442 [==============================] - 0s 74us/step - loss: 28765.5466\n",
      "Epoch 70/100\n",
      "442/442 [==============================] - 0s 131us/step - loss: 28761.1327\n",
      "Epoch 71/100\n",
      "442/442 [==============================] - 0s 68us/step - loss: 28756.6875\n",
      "Epoch 72/100\n",
      "442/442 [==============================] - 0s 68us/step - loss: 28752.2489\n",
      "Epoch 73/100\n",
      "442/442 [==============================] - 0s 131us/step - loss: 28747.7454\n",
      "Epoch 74/100\n",
      "442/442 [==============================] - 0s 88us/step - loss: 28743.3265\n",
      "Epoch 75/100\n",
      "442/442 [==============================] - 0s 86us/step - loss: 28738.9137\n",
      "Epoch 76/100\n",
      "442/442 [==============================] - 0s 138us/step - loss: 28734.4057\n",
      "Epoch 77/100\n",
      "442/442 [==============================] - 0s 70us/step - loss: 28729.9952\n",
      "Epoch 78/100\n",
      "442/442 [==============================] - 0s 88us/step - loss: 28725.5795\n",
      "Epoch 79/100\n",
      "442/442 [==============================] - 0s 142us/step - loss: 28721.0827\n",
      "Epoch 80/100\n",
      "442/442 [==============================] - 0s 157us/step - loss: 28716.6844\n",
      "Epoch 81/100\n",
      "442/442 [==============================] - 0s 88us/step - loss: 28712.2028\n",
      "Epoch 82/100\n",
      "442/442 [==============================] - 0s 88us/step - loss: 28707.7694\n",
      "Epoch 83/100\n",
      "442/442 [==============================] - 0s 142us/step - loss: 28703.3815\n",
      "Epoch 84/100\n",
      "442/442 [==============================] - 0s 99us/step - loss: 28698.9167\n",
      "Epoch 85/100\n",
      "442/442 [==============================] - 0s 113us/step - loss: 28694.4594\n",
      "Epoch 86/100\n",
      "442/442 [==============================] - 0s 113us/step - loss: 28690.0158\n",
      "Epoch 87/100\n",
      "442/442 [==============================] - 0s 108us/step - loss: 28685.6303\n",
      "Epoch 88/100\n",
      "442/442 [==============================] - 0s 79us/step - loss: 28681.1716\n",
      "Epoch 89/100\n",
      "442/442 [==============================] - 0s 77us/step - loss: 28676.7479\n",
      "Epoch 90/100\n",
      "442/442 [==============================] - 0s 90us/step - loss: 28672.2855\n",
      "Epoch 91/100\n"
     ]
    },
    {
     "name": "stdout",
     "output_type": "stream",
     "text": [
      "442/442 [==============================] - 0s 108us/step - loss: 28667.8620\n",
      "Epoch 92/100\n",
      "442/442 [==============================] - 0s 72us/step - loss: 28663.4864\n",
      "Epoch 93/100\n",
      "442/442 [==============================] - 0s 61us/step - loss: 28658.9879\n",
      "Epoch 94/100\n",
      "442/442 [==============================] - 0s 99us/step - loss: 28654.5656\n",
      "Epoch 95/100\n",
      "442/442 [==============================] - 0s 81us/step - loss: 28650.1243\n",
      "Epoch 96/100\n",
      "442/442 [==============================] - 0s 111us/step - loss: 28645.6470\n",
      "Epoch 97/100\n",
      "442/442 [==============================] - 0s 124us/step - loss: 28641.2756\n",
      "Epoch 98/100\n",
      "442/442 [==============================] - 0s 120us/step - loss: 28636.7984\n",
      "Epoch 99/100\n",
      "442/442 [==============================] - 0s 93us/step - loss: 28632.3720\n",
      "Epoch 100/100\n",
      "442/442 [==============================] - 0s 88us/step - loss: 28627.9199\n"
     ]
    },
    {
     "data": {
      "text/plain": [
       "<keras.callbacks.callbacks.History at 0x178fa4eea58>"
      ]
     },
     "execution_count": 11,
     "metadata": {},
     "output_type": "execute_result"
    }
   ],
   "source": [
    "model.fit(x,y,epochs=100)"
   ]
  },
  {
   "cell_type": "code",
   "execution_count": null,
   "metadata": {},
   "outputs": [],
   "source": []
  }
 ],
 "metadata": {
  "kernelspec": {
   "display_name": "Python 3",
   "language": "python",
   "name": "python3"
  },
  "language_info": {
   "codemirror_mode": {
    "name": "ipython",
    "version": 3
   },
   "file_extension": ".py",
   "mimetype": "text/x-python",
   "name": "python",
   "nbconvert_exporter": "python",
   "pygments_lexer": "ipython3",
   "version": "3.7.3"
  }
 },
 "nbformat": 4,
 "nbformat_minor": 2
}
