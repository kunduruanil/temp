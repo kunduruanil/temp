{
 "cells": [
  {
   "cell_type": "code",
   "execution_count": 1,
   "metadata": {},
   "outputs": [],
   "source": [
    "import numpy as np\n",
    "import pandas as pd\n",
    "import sklearn"
   ]
  },
  {
   "cell_type": "code",
   "execution_count": 2,
   "metadata": {},
   "outputs": [],
   "source": [
    "from sklearn.datasets import load_iris"
   ]
  },
  {
   "cell_type": "code",
   "execution_count": 3,
   "metadata": {},
   "outputs": [
    {
     "data": {
      "text/plain": [
       "((150, 4), (150,))"
      ]
     },
     "execution_count": 3,
     "metadata": {},
     "output_type": "execute_result"
    }
   ],
   "source": [
    "iris=load_iris()\n",
    "x=iris.data\n",
    "y=iris.target\n",
    "x.shape,y.shape"
   ]
  },
  {
   "cell_type": "code",
   "execution_count": 4,
   "metadata": {},
   "outputs": [
    {
     "data": {
      "text/plain": [
       "array([0, 1, 2])"
      ]
     },
     "execution_count": 4,
     "metadata": {},
     "output_type": "execute_result"
    }
   ],
   "source": [
    "np.unique(y)"
   ]
  },
  {
   "cell_type": "code",
   "execution_count": 22,
   "metadata": {},
   "outputs": [
    {
     "data": {
      "text/plain": [
       "(150, 1)"
      ]
     },
     "execution_count": 22,
     "metadata": {},
     "output_type": "execute_result"
    }
   ],
   "source": [
    "y=y.reshape(-1,1)\n",
    "y.shape"
   ]
  },
  {
   "cell_type": "code",
   "execution_count": 6,
   "metadata": {},
   "outputs": [
    {
     "name": "stdout",
     "output_type": "stream",
     "text": [
      ".. _iris_dataset:\n",
      "\n",
      "Iris plants dataset\n",
      "--------------------\n",
      "\n",
      "**Data Set Characteristics:**\n",
      "\n",
      "    :Number of Instances: 150 (50 in each of three classes)\n",
      "    :Number of Attributes: 4 numeric, predictive attributes and the class\n",
      "    :Attribute Information:\n",
      "        - sepal length in cm\n",
      "        - sepal width in cm\n",
      "        - petal length in cm\n",
      "        - petal width in cm\n",
      "        - class:\n",
      "                - Iris-Setosa\n",
      "                - Iris-Versicolour\n",
      "                - Iris-Virginica\n",
      "                \n",
      "    :Summary Statistics:\n",
      "\n",
      "    ============== ==== ==== ======= ===== ====================\n",
      "                    Min  Max   Mean    SD   Class Correlation\n",
      "    ============== ==== ==== ======= ===== ====================\n",
      "    sepal length:   4.3  7.9   5.84   0.83    0.7826\n",
      "    sepal width:    2.0  4.4   3.05   0.43   -0.4194\n",
      "    petal length:   1.0  6.9   3.76   1.76    0.9490  (high!)\n",
      "    petal width:    0.1  2.5   1.20   0.76    0.9565  (high!)\n",
      "    ============== ==== ==== ======= ===== ====================\n",
      "\n",
      "    :Missing Attribute Values: None\n",
      "    :Class Distribution: 33.3% for each of 3 classes.\n",
      "    :Creator: R.A. Fisher\n",
      "    :Donor: Michael Marshall (MARSHALL%PLU@io.arc.nasa.gov)\n",
      "    :Date: July, 1988\n",
      "\n",
      "The famous Iris database, first used by Sir R.A. Fisher. The dataset is taken\n",
      "from Fisher's paper. Note that it's the same as in R, but not as in the UCI\n",
      "Machine Learning Repository, which has two wrong data points.\n",
      "\n",
      "This is perhaps the best known database to be found in the\n",
      "pattern recognition literature.  Fisher's paper is a classic in the field and\n",
      "is referenced frequently to this day.  (See Duda & Hart, for example.)  The\n",
      "data set contains 3 classes of 50 instances each, where each class refers to a\n",
      "type of iris plant.  One class is linearly separable from the other 2; the\n",
      "latter are NOT linearly separable from each other.\n",
      "\n",
      ".. topic:: References\n",
      "\n",
      "   - Fisher, R.A. \"The use of multiple measurements in taxonomic problems\"\n",
      "     Annual Eugenics, 7, Part II, 179-188 (1936); also in \"Contributions to\n",
      "     Mathematical Statistics\" (John Wiley, NY, 1950).\n",
      "   - Duda, R.O., & Hart, P.E. (1973) Pattern Classification and Scene Analysis.\n",
      "     (Q327.D83) John Wiley & Sons.  ISBN 0-471-22361-1.  See page 218.\n",
      "   - Dasarathy, B.V. (1980) \"Nosing Around the Neighborhood: A New System\n",
      "     Structure and Classification Rule for Recognition in Partially Exposed\n",
      "     Environments\".  IEEE Transactions on Pattern Analysis and Machine\n",
      "     Intelligence, Vol. PAMI-2, No. 1, 67-71.\n",
      "   - Gates, G.W. (1972) \"The Reduced Nearest Neighbor Rule\".  IEEE Transactions\n",
      "     on Information Theory, May 1972, 431-433.\n",
      "   - See also: 1988 MLC Proceedings, 54-64.  Cheeseman et al\"s AUTOCLASS II\n",
      "     conceptual clustering system finds 3 classes in the data.\n",
      "   - Many, many more ...\n"
     ]
    }
   ],
   "source": [
    "print(iris.DESCR)"
   ]
  },
  {
   "cell_type": "code",
   "execution_count": 8,
   "metadata": {},
   "outputs": [],
   "source": [
    "from keras.models import Sequential"
   ]
  },
  {
   "cell_type": "code",
   "execution_count": 12,
   "metadata": {},
   "outputs": [],
   "source": [
    "model=Sequential()"
   ]
  },
  {
   "cell_type": "code",
   "execution_count": 13,
   "metadata": {},
   "outputs": [],
   "source": [
    "## imput layer"
   ]
  },
  {
   "cell_type": "code",
   "execution_count": 14,
   "metadata": {},
   "outputs": [],
   "source": [
    "from keras.layers import Dense\n",
    "model.add(Dense(10,input_shape=(4,),activation=\"relu\"))"
   ]
  },
  {
   "cell_type": "code",
   "execution_count": 15,
   "metadata": {},
   "outputs": [],
   "source": [
    "model.add(Dense(20,activation='relu'))"
   ]
  },
  {
   "cell_type": "code",
   "execution_count": 16,
   "metadata": {},
   "outputs": [],
   "source": [
    "model.add(Dense(3,activation='relu'))"
   ]
  },
  {
   "cell_type": "code",
   "execution_count": 30,
   "metadata": {},
   "outputs": [
    {
     "name": "stderr",
     "output_type": "stream",
     "text": [
      "c:\\users\\anil.reddy.kunduru\\appdata\\local\\programs\\python\\python36\\lib\\site-packages\\sklearn\\preprocessing\\_encoders.py:414: FutureWarning: The handling of integer data will change in version 0.22. Currently, the categories are determined based on the range [0, max(values)], while in the future they will be determined based on the unique values.\n",
      "If you want the future behaviour and silence this warning, you can specify \"categories='auto'\".\n",
      "In case you used a LabelEncoder before this OneHotEncoder to convert the categories to integers, then you can now use the OneHotEncoder directly.\n",
      "  warnings.warn(msg, FutureWarning)\n"
     ]
    },
    {
     "data": {
      "text/plain": [
       "array([[1., 0., 0.],\n",
       "       [1., 0., 0.],\n",
       "       [1., 0., 0.]])"
      ]
     },
     "execution_count": 30,
     "metadata": {},
     "output_type": "execute_result"
    }
   ],
   "source": [
    "from sklearn.preprocessing import OneHotEncoder\n",
    "one=OneHotEncoder()\n",
    "y=y.reshape(-1,1)\n",
    "new_y=one.fit_transform(y).toarray()\n",
    "new_y[:3]"
   ]
  },
  {
   "cell_type": "code",
   "execution_count": 32,
   "metadata": {},
   "outputs": [],
   "source": [
    "model.compile(loss='categorical_crossentropy',optimizer='adam')"
   ]
  },
  {
   "cell_type": "code",
   "execution_count": 34,
   "metadata": {},
   "outputs": [
    {
     "name": "stdout",
     "output_type": "stream",
     "text": [
      "Epoch 1/100\n",
      "150/150 [==============================] - 1s 6ms/step - loss: 5.7621\n",
      "Epoch 2/100\n",
      "150/150 [==============================] - 0s 160us/step - loss: 5.6731\n",
      "Epoch 3/100\n",
      "150/150 [==============================] - 0s 160us/step - loss: 5.5988\n",
      "Epoch 4/100\n",
      "150/150 [==============================] - 0s 260us/step - loss: 5.5332\n",
      "Epoch 5/100\n",
      "150/150 [==============================] - 0s 160us/step - loss: 5.4529\n",
      "Epoch 6/100\n",
      "150/150 [==============================] - 0s 147us/step - loss: 5.3865\n",
      "Epoch 7/100\n",
      "150/150 [==============================] - 0s 233us/step - loss: 5.3781\n",
      "Epoch 8/100\n",
      "150/150 [==============================] - 0s 167us/step - loss: 5.3740\n",
      "Epoch 9/100\n",
      "150/150 [==============================] - 0s 173us/step - loss: 5.3727\n",
      "Epoch 10/100\n",
      "150/150 [==============================] - 0s 193us/step - loss: 5.3727\n",
      "Epoch 11/100\n",
      "150/150 [==============================] - 0s 280us/step - loss: 5.3727\n",
      "Epoch 12/100\n",
      "150/150 [==============================] - 0s 147us/step - loss: 5.3727\n",
      "Epoch 13/100\n",
      "150/150 [==============================] - 0s 207us/step - loss: 5.3727\n",
      "Epoch 14/100\n",
      "150/150 [==============================] - ETA: 0s - loss: 5.540 - 0s 140us/step - loss: 5.3727\n",
      "Epoch 15/100\n",
      "150/150 [==============================] - 0s 147us/step - loss: 5.3727\n",
      "Epoch 16/100\n",
      "150/150 [==============================] - 0s 173us/step - loss: 5.3727\n",
      "Epoch 17/100\n",
      "150/150 [==============================] - 0s 180us/step - loss: 5.3727\n",
      "Epoch 18/100\n",
      "150/150 [==============================] - 0s 227us/step - loss: 5.3727\n",
      "Epoch 19/100\n",
      "150/150 [==============================] - 0s 147us/step - loss: 5.3727\n",
      "Epoch 20/100\n",
      "150/150 [==============================] - 0s 160us/step - loss: 5.3727\n",
      "Epoch 21/100\n",
      "150/150 [==============================] - 0s 213us/step - loss: 5.3727\n",
      "Epoch 22/100\n",
      "150/150 [==============================] - 0s 180us/step - loss: 5.3727\n",
      "Epoch 23/100\n",
      "150/150 [==============================] - 0s 180us/step - loss: 5.3727\n",
      "Epoch 24/100\n",
      "150/150 [==============================] - 0s 200us/step - loss: 5.3727\n",
      "Epoch 25/100\n",
      "150/150 [==============================] - 0s 134us/step - loss: 5.3727\n",
      "Epoch 26/100\n",
      "150/150 [==============================] - 0s 247us/step - loss: 5.3727\n",
      "Epoch 27/100\n",
      "150/150 [==============================] - 0s 147us/step - loss: 5.3727\n",
      "Epoch 28/100\n",
      "150/150 [==============================] - 0s 167us/step - loss: 5.3727\n",
      "Epoch 29/100\n",
      "150/150 [==============================] - 0s 153us/step - loss: 5.3727\n",
      "Epoch 30/100\n",
      "150/150 [==============================] - 0s 147us/step - loss: 5.3727\n",
      "Epoch 31/100\n",
      "150/150 [==============================] - 0s 187us/step - loss: 5.3727\n",
      "Epoch 32/100\n",
      "150/150 [==============================] - 0s 193us/step - loss: 5.3727\n",
      "Epoch 33/100\n",
      "150/150 [==============================] - 0s 220us/step - loss: 5.3727\n",
      "Epoch 34/100\n",
      "150/150 [==============================] - 0s 147us/step - loss: 5.3727\n",
      "Epoch 35/100\n",
      "150/150 [==============================] - 0s 127us/step - loss: 5.3727\n",
      "Epoch 36/100\n",
      "150/150 [==============================] - 0s 180us/step - loss: 5.3727\n",
      "Epoch 37/100\n",
      "150/150 [==============================] - 0s 140us/step - loss: 5.3727\n",
      "Epoch 38/100\n",
      "150/150 [==============================] - 0s 193us/step - loss: 5.3727\n",
      "Epoch 39/100\n",
      "150/150 [==============================] - 0s 140us/step - loss: 5.3727\n",
      "Epoch 40/100\n",
      "150/150 [==============================] - 0s 180us/step - loss: 5.3727\n",
      "Epoch 41/100\n",
      "150/150 [==============================] - 0s 233us/step - loss: 5.3727\n",
      "Epoch 42/100\n",
      "150/150 [==============================] - 0s 160us/step - loss: 5.3727\n",
      "Epoch 43/100\n",
      "150/150 [==============================] - 0s 113us/step - loss: 5.3727\n",
      "Epoch 44/100\n",
      "150/150 [==============================] - 0s 167us/step - loss: 5.3727\n",
      "Epoch 45/100\n",
      "150/150 [==============================] - 0s 160us/step - loss: 5.3727\n",
      "Epoch 46/100\n",
      "150/150 [==============================] - 0s 140us/step - loss: 5.3727\n",
      "Epoch 47/100\n",
      "150/150 [==============================] - 0s 213us/step - loss: 5.3727\n",
      "Epoch 48/100\n",
      "150/150 [==============================] - 0s 140us/step - loss: 5.3727\n",
      "Epoch 49/100\n",
      "150/150 [==============================] - 0s 160us/step - loss: 5.3727\n",
      "Epoch 50/100\n",
      "150/150 [==============================] - 0s 187us/step - loss: 5.3727\n",
      "Epoch 51/100\n",
      "150/150 [==============================] - 0s 214us/step - loss: 5.3727\n",
      "Epoch 52/100\n",
      "150/150 [==============================] - 0s 180us/step - loss: 5.3727\n",
      "Epoch 53/100\n",
      "150/150 [==============================] - 0s 154us/step - loss: 5.3727\n",
      "Epoch 54/100\n",
      "150/150 [==============================] - 0s 213us/step - loss: 5.3727\n",
      "Epoch 55/100\n",
      "150/150 [==============================] - 0s 140us/step - loss: 5.3727\n",
      "Epoch 56/100\n",
      "150/150 [==============================] - 0s 167us/step - loss: 5.3727\n",
      "Epoch 57/100\n",
      "150/150 [==============================] - ETA: 0s - loss: 6.044 - 0s 187us/step - loss: 5.3727\n",
      "Epoch 58/100\n",
      "150/150 [==============================] - 0s 160us/step - loss: 5.3727\n",
      "Epoch 59/100\n",
      "150/150 [==============================] - 0s 187us/step - loss: 5.3727\n",
      "Epoch 60/100\n",
      "150/150 [==============================] - 0s 160us/step - loss: 5.3727\n",
      "Epoch 61/100\n",
      "150/150 [==============================] - 0s 160us/step - loss: 5.3727\n",
      "Epoch 62/100\n",
      "150/150 [==============================] - 0s 207us/step - loss: 5.3727\n",
      "Epoch 63/100\n",
      "150/150 [==============================] - 0s 220us/step - loss: 5.3727\n",
      "Epoch 64/100\n",
      "150/150 [==============================] - 0s 147us/step - loss: 5.3727\n",
      "Epoch 65/100\n",
      "150/150 [==============================] - 0s 153us/step - loss: 5.3727\n",
      "Epoch 66/100\n",
      "150/150 [==============================] - 0s 140us/step - loss: 5.3727\n",
      "Epoch 67/100\n",
      "150/150 [==============================] - 0s 154us/step - loss: 5.3727\n",
      "Epoch 68/100\n",
      "150/150 [==============================] - 0s 153us/step - loss: 5.3727\n",
      "Epoch 69/100\n",
      "150/150 [==============================] - 0s 140us/step - loss: 5.3727\n",
      "Epoch 70/100\n",
      "150/150 [==============================] - 0s 140us/step - loss: 5.3727\n",
      "Epoch 71/100\n",
      "150/150 [==============================] - 0s 147us/step - loss: 5.3727\n",
      "Epoch 72/100\n",
      "150/150 [==============================] - 0s 174us/step - loss: 5.3727\n",
      "Epoch 73/100\n",
      "150/150 [==============================] - 0s 167us/step - loss: 5.3727\n",
      "Epoch 74/100\n",
      "150/150 [==============================] - 0s 140us/step - loss: 5.3727\n",
      "Epoch 75/100\n",
      "150/150 [==============================] - 0s 173us/step - loss: 5.3727\n",
      "Epoch 76/100\n",
      "150/150 [==============================] - 0s 147us/step - loss: 5.3727\n",
      "Epoch 77/100\n",
      "150/150 [==============================] - 0s 173us/step - loss: 5.3727\n",
      "Epoch 78/100\n",
      "150/150 [==============================] - 0s 120us/step - loss: 5.3727\n",
      "Epoch 79/100\n",
      "150/150 [==============================] - 0s 160us/step - loss: 5.3727\n",
      "Epoch 80/100\n",
      "150/150 [==============================] - 0s 133us/step - loss: 5.3727\n",
      "Epoch 81/100\n",
      "150/150 [==============================] - 0s 147us/step - loss: 5.3727\n",
      "Epoch 82/100\n",
      "150/150 [==============================] - 0s 147us/step - loss: 5.3727\n",
      "Epoch 83/100\n",
      "150/150 [==============================] - 0s 246us/step - loss: 5.3727\n",
      "Epoch 84/100\n",
      "150/150 [==============================] - 0s 140us/step - loss: 5.3727\n",
      "Epoch 85/100\n",
      "150/150 [==============================] - 0s 180us/step - loss: 5.3727\n",
      "Epoch 86/100\n",
      "150/150 [==============================] - 0s 167us/step - loss: 5.3727\n",
      "Epoch 87/100\n",
      "150/150 [==============================] - 0s 200us/step - loss: 5.3727\n",
      "Epoch 88/100\n",
      "150/150 [==============================] - 0s 167us/step - loss: 5.3727\n",
      "Epoch 89/100\n",
      "150/150 [==============================] - 0s 167us/step - loss: 5.3727\n",
      "Epoch 90/100\n",
      "150/150 [==============================] - 0s 213us/step - loss: 5.3727\n",
      "Epoch 91/100\n",
      "150/150 [==============================] - 0s 413us/step - loss: 5.3727\n",
      "Epoch 92/100\n",
      "150/150 [==============================] - 0s 173us/step - loss: 5.3727\n",
      "Epoch 93/100\n",
      "150/150 [==============================] - 0s 187us/step - loss: 5.3727\n",
      "Epoch 94/100\n",
      "150/150 [==============================] - 0s 153us/step - loss: 5.3727\n",
      "Epoch 95/100\n",
      "150/150 [==============================] - 0s 160us/step - loss: 5.3727\n",
      "Epoch 96/100\n",
      "150/150 [==============================] - 0s 153us/step - loss: 5.3727\n"
     ]
    },
    {
     "name": "stdout",
     "output_type": "stream",
     "text": [
      "Epoch 97/100\n",
      "150/150 [==============================] - 0s 147us/step - loss: 5.3727\n",
      "Epoch 98/100\n",
      "150/150 [==============================] - 0s 147us/step - loss: 5.3727\n",
      "Epoch 99/100\n",
      "150/150 [==============================] - 0s 167us/step - loss: 5.3727\n",
      "Epoch 100/100\n",
      "150/150 [==============================] - 0s 180us/step - loss: 5.3727\n"
     ]
    },
    {
     "data": {
      "text/plain": [
       "<keras.callbacks.History at 0x1e30c5d84a8>"
      ]
     },
     "execution_count": 34,
     "metadata": {},
     "output_type": "execute_result"
    }
   ],
   "source": [
    "model.fit(x,new_y,epochs=100)"
   ]
  },
  {
   "cell_type": "code",
   "execution_count": 45,
   "metadata": {},
   "outputs": [
    {
     "data": {
      "text/plain": [
       "array([1, 1, 1, 1, 1, 1, 1, 1, 1, 1, 1, 1, 1, 1, 1, 1, 1, 1, 1, 1, 1, 1,\n",
       "       1, 1, 1, 1, 1, 1, 1, 1, 1, 1, 1, 1, 1, 1, 1, 1, 1, 1], dtype=int64)"
      ]
     },
     "execution_count": 45,
     "metadata": {},
     "output_type": "execute_result"
    }
   ],
   "source": [
    "model.predict_classes(x[70:110])"
   ]
  },
  {
   "cell_type": "code",
   "execution_count": null,
   "metadata": {},
   "outputs": [],
   "source": []
  }
 ],
 "metadata": {
  "kernelspec": {
   "display_name": "Python 3",
   "language": "python",
   "name": "python3"
  },
  "language_info": {
   "codemirror_mode": {
    "name": "ipython",
    "version": 3
   },
   "file_extension": ".py",
   "mimetype": "text/x-python",
   "name": "python",
   "nbconvert_exporter": "python",
   "pygments_lexer": "ipython3",
   "version": "3.7.3"
  }
 },
 "nbformat": 4,
 "nbformat_minor": 2
}
